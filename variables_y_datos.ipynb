{
  "nbformat": 4,
  "nbformat_minor": 0,
  "metadata": {
    "colab": {
      "provenance": [],
      "authorship_tag": "ABX9TyMhMT5DMjhrCkP59+rKWCcG",
      "include_colab_link": true
    },
    "kernelspec": {
      "name": "python3",
      "display_name": "Python 3"
    },
    "language_info": {
      "name": "python"
    }
  },
  "cells": [
    {
      "cell_type": "markdown",
      "metadata": {
        "id": "view-in-github",
        "colab_type": "text"
      },
      "source": [
        "<a href=\"https://colab.research.google.com/github/Andrewshumeiker/Python-Prep/blob/main/variables_y_datos.ipynb\" target=\"_parent\"><img src=\"https://colab.research.google.com/assets/colab-badge.svg\" alt=\"Open In Colab\"/></a>"
      ]
    },
    {
      "cell_type": "markdown",
      "source": [
        "#Andres Covaleda\n",
        "##ejercicios de variables #1\n"
      ],
      "metadata": {
        "id": "Ci6cbVwfb0-R"
      }
    },
    {
      "cell_type": "code",
      "execution_count": null,
      "metadata": {
        "colab": {
          "base_uri": "https://localhost:8080/"
        },
        "id": "1-3_fXMHGV0O",
        "outputId": "64f6993d-e504-4a0f-96e9-c3fdbb1057a8"
      },
      "outputs": [
        {
          "output_type": "stream",
          "name": "stdout",
          "text": [
            "3\n"
          ]
        }
      ],
      "source": [
        "x=3\n",
        "print(x)"
      ]
    },
    {
      "cell_type": "code",
      "source": [
        "8.5\n",
        "type(8.5)"
      ],
      "metadata": {
        "colab": {
          "base_uri": "https://localhost:8080/"
        },
        "id": "euqzAnHkGrMq",
        "outputId": "cf37989d-6a27-47bd-fd66-df826b4fa1a5"
      },
      "execution_count": null,
      "outputs": [
        {
          "output_type": "execute_result",
          "data": {
            "text/plain": [
              "float"
            ]
          },
          "metadata": {},
          "execution_count": 2
        }
      ]
    },
    {
      "cell_type": "code",
      "source": [
        "type(x)"
      ],
      "metadata": {
        "colab": {
          "base_uri": "https://localhost:8080/"
        },
        "id": "bJTZi1MQG4Da",
        "outputId": "9d6c243e-4a72-422a-adbb-3fa8a7ec1035"
      },
      "execution_count": null,
      "outputs": [
        {
          "output_type": "execute_result",
          "data": {
            "text/plain": [
              "int"
            ]
          },
          "metadata": {},
          "execution_count": 3
        }
      ]
    },
    {
      "cell_type": "code",
      "source": [
        "nombre = \"Andrés David Covaleda Vargas\"\n",
        "print(nombre)"
      ],
      "metadata": {
        "colab": {
          "base_uri": "https://localhost:8080/"
        },
        "id": "WwSLDJ3wG8An",
        "outputId": "9f4e0c0c-a0cd-43b3-eb15-447ab828cac4"
      },
      "execution_count": null,
      "outputs": [
        {
          "output_type": "stream",
          "name": "stdout",
          "text": [
            "Andrés David Covaleda Vargas\n"
          ]
        }
      ]
    },
    {
      "cell_type": "code",
      "source": [
        "t = 3j\n",
        "print(t)\n",
        "type(t)"
      ],
      "metadata": {
        "colab": {
          "base_uri": "https://localhost:8080/"
        },
        "id": "Oylw9qjkHN2H",
        "outputId": "2b890592-1283-4848-cfbb-c236d0a29285"
      },
      "execution_count": null,
      "outputs": [
        {
          "output_type": "stream",
          "name": "stdout",
          "text": [
            "3j\n"
          ]
        },
        {
          "output_type": "execute_result",
          "data": {
            "text/plain": [
              "complex"
            ]
          },
          "metadata": {},
          "execution_count": 7
        }
      ]
    },
    {
      "cell_type": "code",
      "source": [
        "import math\n",
        "pi=round(math.pi, 4)\n",
        "print(pi)"
      ],
      "metadata": {
        "colab": {
          "base_uri": "https://localhost:8080/"
        },
        "id": "CfEbqPARHed-",
        "outputId": "be345b7f-b6a1-4ae8-c67d-467eb6c34cbb"
      },
      "execution_count": null,
      "outputs": [
        {
          "output_type": "stream",
          "name": "stdout",
          "text": [
            "3.1416\n"
          ]
        }
      ]
    },
    {
      "cell_type": "code",
      "source": [
        "pi=3.141654\n",
        "print(pi)\n",
        "pi=round(pi, 4)\n",
        "print(pi)"
      ],
      "metadata": {
        "colab": {
          "base_uri": "https://localhost:8080/"
        },
        "id": "pyCztxlcI64c",
        "outputId": "69ad02df-1762-4cb4-9241-1a8df2e2735f"
      },
      "execution_count": null,
      "outputs": [
        {
          "output_type": "stream",
          "name": "stdout",
          "text": [
            "3.141654\n",
            "3.1417\n"
          ]
        }
      ]
    },
    {
      "cell_type": "code",
      "source": [
        "variable=\"True\"\n",
        "variable2=True\n",
        "print(variable==variable2) #noes lo mismo ya que la \"variable\" es un String \"type(variable)\"\"\n",
        "print(type(variable),type(variable2))\n"
      ],
      "metadata": {
        "colab": {
          "base_uri": "https://localhost:8080/"
        },
        "id": "DcMqU5WrJPhd",
        "outputId": "4a52f7f7-4d4b-45c7-9fe8-88003defc350"
      },
      "execution_count": null,
      "outputs": [
        {
          "output_type": "stream",
          "name": "stdout",
          "text": [
            "False\n",
            "<class 'str'> <class 'bool'>\n"
          ]
        }
      ]
    },
    {
      "cell_type": "code",
      "source": [
        "numero_decimal = 12 + 3.5\n",
        "print(numero_decimal)"
      ],
      "metadata": {
        "colab": {
          "base_uri": "https://localhost:8080/"
        },
        "id": "Dc30AouAKZQF",
        "outputId": "def36a71-3f2d-4118-bc32-2d00a7bd459b"
      },
      "execution_count": null,
      "outputs": [
        {
          "output_type": "stream",
          "name": "stdout",
          "text": [
            "15.5\n"
          ]
        }
      ]
    },
    {
      "cell_type": "code",
      "source": [
        "complejo1=12j + 3j\n",
        "print(complejo1,type(complejo1))\n",
        "\n",
        "\n"
      ],
      "metadata": {
        "colab": {
          "base_uri": "https://localhost:8080/"
        },
        "id": "SDNeEtd1KpQm",
        "outputId": "f138ddb8-1322-4273-8be8-b96b4eaead70"
      },
      "execution_count": null,
      "outputs": [
        {
          "output_type": "stream",
          "name": "stdout",
          "text": [
            "15j <class 'complex'>\n"
          ]
        }
      ]
    },
    {
      "cell_type": "code",
      "source": [
        "suma= 40 + 2j\n",
        "print(suma,type(suma))"
      ],
      "metadata": {
        "colab": {
          "base_uri": "https://localhost:8080/"
        },
        "id": "tGR7yn_QLAeN",
        "outputId": "62e78e80-8b96-4a39-e5b5-524a710d62aa"
      },
      "execution_count": null,
      "outputs": [
        {
          "output_type": "stream",
          "name": "stdout",
          "text": [
            "(40+2j) <class 'complex'>\n"
          ]
        }
      ]
    },
    {
      "cell_type": "code",
      "source": [
        "2*4"
      ],
      "metadata": {
        "colab": {
          "base_uri": "https://localhost:8080/"
        },
        "id": "BQEkP2yDLMcR",
        "outputId": "46aed21f-0f3d-451e-958f-0ee90af3e3b1"
      },
      "execution_count": null,
      "outputs": [
        {
          "output_type": "execute_result",
          "data": {
            "text/plain": [
              "8"
            ]
          },
          "metadata": {},
          "execution_count": 31
        }
      ]
    },
    {
      "cell_type": "code",
      "source": [
        "2**8"
      ],
      "metadata": {
        "colab": {
          "base_uri": "https://localhost:8080/"
        },
        "id": "jgSEvYvpLegi",
        "outputId": "351021b7-4b5d-4aad-90f7-92e093a507ce"
      },
      "execution_count": null,
      "outputs": [
        {
          "output_type": "execute_result",
          "data": {
            "text/plain": [
              "256"
            ]
          },
          "metadata": {},
          "execution_count": 32
        }
      ]
    },
    {
      "cell_type": "code",
      "source": [
        "division=27/4\n",
        "print(division)\n"
      ],
      "metadata": {
        "colab": {
          "base_uri": "https://localhost:8080/"
        },
        "id": "VahKOgrYLzKa",
        "outputId": "e49ce28a-16b3-4cd5-c4f3-16711b8210be"
      },
      "execution_count": null,
      "outputs": [
        {
          "output_type": "stream",
          "name": "stdout",
          "text": [
            "6.75\n"
          ]
        }
      ]
    },
    {
      "cell_type": "code",
      "source": [
        "division1=int(division)\n",
        "print(division1)"
      ],
      "metadata": {
        "colab": {
          "base_uri": "https://localhost:8080/"
        },
        "id": "gOgYydfyOYge",
        "outputId": "87e99ac4-3006-461f-e223-8eeed90d4a77"
      },
      "execution_count": null,
      "outputs": [
        {
          "output_type": "stream",
          "name": "stdout",
          "text": [
            "6\n"
          ]
        }
      ]
    },
    {
      "cell_type": "code",
      "source": [
        "27%4"
      ],
      "metadata": {
        "colab": {
          "base_uri": "https://localhost:8080/"
        },
        "id": "wTRXc2I0Ooyd",
        "outputId": "e4200757-5c70-4d82-ef58-169cb0dcf832"
      },
      "execution_count": null,
      "outputs": [
        {
          "output_type": "execute_result",
          "data": {
            "text/plain": [
              "3"
            ]
          },
          "metadata": {},
          "execution_count": 36
        }
      ]
    },
    {
      "cell_type": "code",
      "source": [
        "division1*4 + 3"
      ],
      "metadata": {
        "colab": {
          "base_uri": "https://localhost:8080/"
        },
        "id": "0pt5prhXO0Lz",
        "outputId": "8623ef57-ccd0-4b05-8ce0-0e63dc6b2906"
      },
      "execution_count": null,
      "outputs": [
        {
          "output_type": "execute_result",
          "data": {
            "text/plain": [
              "27"
            ]
          },
          "metadata": {},
          "execution_count": 38
        }
      ]
    },
    {
      "cell_type": "code",
      "source": [
        "f= \"hola mundo\"\n",
        "y = \" como estan\"\n",
        "resultado=f + y\n",
        "print(resultado)"
      ],
      "metadata": {
        "colab": {
          "base_uri": "https://localhost:8080/"
        },
        "id": "fuh2PMhgPUti",
        "outputId": "900f6e63-2ac2-4f5c-fb0c-e0d08516109f"
      },
      "execution_count": null,
      "outputs": [
        {
          "output_type": "stream",
          "name": "stdout",
          "text": [
            "hola mundo como estan\n"
          ]
        }
      ]
    },
    {
      "cell_type": "code",
      "source": [
        "r=\"2\"==2\n",
        "#es porque \"2\" es un string y 2 un entero\n",
        "print(r,type(\"2\"),type(2))"
      ],
      "metadata": {
        "colab": {
          "base_uri": "https://localhost:8080/"
        },
        "id": "93ertOZiQA5Z",
        "outputId": "da6ae3a4-0a3b-4117-8de7-5c085991e75a"
      },
      "execution_count": null,
      "outputs": [
        {
          "output_type": "stream",
          "name": "stdout",
          "text": [
            "False <class 'str'> <class 'int'>\n"
          ]
        }
      ]
    },
    {
      "cell_type": "code",
      "source": [
        "r=\"2\"\n",
        "r1=int(r)\n",
        "r1==2"
      ],
      "metadata": {
        "colab": {
          "base_uri": "https://localhost:8080/"
        },
        "id": "4UpNvw1-Qfbo",
        "outputId": "4a70b927-4d67-43fe-dbbd-fa9a81aef4ae"
      },
      "execution_count": null,
      "outputs": [
        {
          "output_type": "execute_result",
          "data": {
            "text/plain": [
              "True"
            ]
          },
          "metadata": {},
          "execution_count": 47
        }
      ]
    },
    {
      "cell_type": "code",
      "source": [
        "#a =float(\"3,8\") #El erro ocurre por el separador decimal \",\" ya que en python se utiliza el separador de \".\"\n",
        "#la correcion seria asi\n",
        "a=float(\"3.8\")\n",
        "type(a)"
      ],
      "metadata": {
        "colab": {
          "base_uri": "https://localhost:8080/"
        },
        "id": "1_LdFMGkQzPN",
        "outputId": "9649ffaa-dd7b-43d7-af68-e84762d34b4d"
      },
      "execution_count": null,
      "outputs": [
        {
          "output_type": "execute_result",
          "data": {
            "text/plain": [
              "float"
            ]
          },
          "metadata": {},
          "execution_count": 50
        }
      ]
    },
    {
      "cell_type": "code",
      "source": [
        "x=3\n",
        "x-=1\n",
        "print(x)"
      ],
      "metadata": {
        "colab": {
          "base_uri": "https://localhost:8080/"
        },
        "id": "B3I-1QWzRYZh",
        "outputId": "7c72ec7e-342b-418d-a3eb-495fb4138ab6"
      },
      "execution_count": null,
      "outputs": [
        {
          "output_type": "stream",
          "name": "stdout",
          "text": [
            "2\n"
          ]
        }
      ]
    },
    {
      "cell_type": "code",
      "source": [
        "1 << 2 #da este resultado por la explicacion del curso sobre operadores binarios\n",
        "#el sistema de numeración binario es un sistema numérico que utiliza solo dos dígitos (0 y 1) para representar valores\n",
        "#esa operaciones de desplazamiento a la izquierda en 2 posiciones del numero 1, por lo que se va multiplicando por 2 siendo 2**2"
      ],
      "metadata": {
        "colab": {
          "base_uri": "https://localhost:8080/"
        },
        "id": "7VnCnXoLRypN",
        "outputId": "e665f545-2f5e-4155-a0b4-82a30f37e717"
      },
      "execution_count": null,
      "outputs": [
        {
          "output_type": "execute_result",
          "data": {
            "text/plain": [
              "4"
            ]
          },
          "metadata": {},
          "execution_count": 53
        }
      ]
    },
    {
      "cell_type": "code",
      "source": [
        "#2+\"2\" No se permite porque son tipo de variables diferentes\n",
        "#si fueran del mismo tipo entero arrojaria el mismo resultado, sin embargo si se presentara el siguiente caso\n",
        "resultado=\"2\"+\"2\"\n",
        "print(resultado)\n",
        "#se arroja el resultado 22 ya que considera los dos string como una concatenacion"
      ],
      "metadata": {
        "colab": {
          "base_uri": "https://localhost:8080/"
        },
        "id": "BU25OC0NSoR3",
        "outputId": "83286a49-225f-4aa4-b2fd-3606c4866d90"
      },
      "execution_count": null,
      "outputs": [
        {
          "output_type": "stream",
          "name": "stdout",
          "text": [
            "22\n"
          ]
        }
      ]
    },
    {
      "cell_type": "code",
      "source": [
        "numero = 18\n",
        "print(\"tengo \"+ str(numero) + \" años\")"
      ],
      "metadata": {
        "colab": {
          "base_uri": "https://localhost:8080/"
        },
        "id": "HKhnaiM6T2j1",
        "outputId": "9bc5f901-9fd8-4776-956f-24d83c1b152c"
      },
      "execution_count": null,
      "outputs": [
        {
          "output_type": "stream",
          "name": "stdout",
          "text": [
            "tengo 18 años\n"
          ]
        }
      ]
    }
  ]
}
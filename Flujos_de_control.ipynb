{
  "nbformat": 4,
  "nbformat_minor": 0,
  "metadata": {
    "colab": {
      "provenance": [],
      "authorship_tag": "ABX9TyMHxmjFFrPQcFRhthjitv7l",
      "include_colab_link": true
    },
    "kernelspec": {
      "name": "python3",
      "display_name": "Python 3"
    },
    "language_info": {
      "name": "python"
    }
  },
  "cells": [
    {
      "cell_type": "markdown",
      "metadata": {
        "id": "view-in-github",
        "colab_type": "text"
      },
      "source": [
        "<a href=\"https://colab.research.google.com/github/Andrewshumeiker/Python-Prep/blob/main/Flujos_de_control.ipynb\" target=\"_parent\"><img src=\"https://colab.research.google.com/assets/colab-badge.svg\" alt=\"Open In Colab\"/></a>"
      ]
    },
    {
      "cell_type": "markdown",
      "source": [
        "#Andres Covaleda\n",
        "##ejercicios  de flujos de control  #1"
      ],
      "metadata": {
        "id": "3IF3ECjkctSu"
      }
    },
    {
      "cell_type": "code",
      "execution_count": null,
      "metadata": {
        "id": "es0wFZtBcsRq"
      },
      "outputs": [],
      "source": [
        "\n",
        "numero_entero = 5\n",
        "# Imprimir si el número es mayor, menor o igual a cero\n",
        "if numero_entero > 0:\n",
        "    print(\"El número es mayor que cero.\")\n",
        "elif numero_entero < 0:\n",
        "    print(\"El número es menor que cero.\")\n",
        "else:\n",
        "    print(\"El número es igual a cero.\")\n"
      ]
    },
    {
      "cell_type": "code",
      "source": [
        "\n",
        "variable1 = 5\n",
        "variable2 = \"henry\"\n",
        "\n",
        "# Verificar si las variables son del mismo tipo de dato\n",
        "if type(variable1) == type(variable2):\n",
        "    print(\"Las variables son del mismo tipo de dato.\")\n",
        "else:\n",
        "    print(\"Las variables no son del mismo tipo de dato.\")\n"
      ],
      "metadata": {
        "id": "NLpjsHZ-dNOc"
      },
      "execution_count": null,
      "outputs": []
    },
    {
      "cell_type": "code",
      "source": [
        "\n",
        "for i in range(1, 21):\n",
        "    # Verificar si el número es par o impar\n",
        "    if i % 2 == 0:\n",
        "        print(f\"{i} es un número par.\")\n",
        "    else:\n",
        "        print(f\"{i} es un número impar.\")\n"
      ],
      "metadata": {
        "id": "EyvfgrICd0z1"
      },
      "execution_count": null,
      "outputs": []
    },
    {
      "cell_type": "code",
      "source": [
        "\n",
        "for i in range(6):\n",
        "    # Elevar el valor al cubo\n",
        "    resultado = i ** 3\n",
        "    # Imprimir el resultado\n",
        "    print(f\"El resultado de elevar {i} al cubo es: {resultado}\")\n"
      ],
      "metadata": {
        "id": "Y48VFxMsd9A5"
      },
      "execution_count": null,
      "outputs": []
    },
    {
      "cell_type": "code",
      "source": [
        "\n",
        "numero_entero = 5\n",
        "\n",
        "# Utilizar un ciclo for para iterar la misma cantidad de veces que el número entero\n",
        "for _ in range(numero_entero):\n",
        "    print(\"Iteración en el ciclo for\")\n"
      ],
      "metadata": {
        "colab": {
          "base_uri": "https://localhost:8080/"
        },
        "id": "PPf7RMCUeNCk",
        "outputId": "b3b92b8d-2e62-4136-c36c-e6d05a526e2a"
      },
      "execution_count": 1,
      "outputs": [
        {
          "output_type": "stream",
          "name": "stdout",
          "text": [
            "Iteración en el ciclo for\n",
            "Iteración en el ciclo for\n",
            "Iteración en el ciclo for\n",
            "Iteración en el ciclo for\n",
            "Iteración en el ciclo for\n"
          ]
        }
      ]
    },
    {
      "cell_type": "code",
      "source": [
        "\n",
        "numero = 10\n",
        "# Verificar si el número es un entero mayor a 0\n",
        "if isinstance(numero, int) and numero > 0:\n",
        "\n",
        "    contador = 2\n",
        "    factorizacion = []\n",
        "\n",
        "    while numero > 1:\n",
        "        if numero % contador == 0:\n",
        "            factorizacion.append(contador)\n",
        "            numero //= contador\n",
        "        else:\n",
        "            contador += 1\n",
        "\n",
        "    print(f\"La factorización de {numero} es: {factorizacion}\")\n",
        "else:\n",
        "    print(\"La variable no contiene un número entero mayor a 0.\")\n"
      ],
      "metadata": {
        "id": "tJEFQeA5es6P"
      },
      "execution_count": null,
      "outputs": []
    },
    {
      "cell_type": "code",
      "source": [
        "\n",
        "contador = 0\n",
        "\n",
        "# Ciclo while\n",
        "while contador < 3:\n",
        "    print(f\"Empieza el ciclo while con contador = {contador}\")\n",
        "\n",
        "    # Ciclo for dentro del ciclo while\n",
        "    for i in range(3):\n",
        "        print(f\"Dentro del ciclo for con i = {i}\")\n",
        "\n",
        "    contador += 1\n"
      ],
      "metadata": {
        "id": "LqwE-S9ze8tR"
      },
      "execution_count": null,
      "outputs": []
    },
    {
      "cell_type": "code",
      "source": [
        "# Ciclo for\n",
        "for i in range(3):\n",
        "    print(f\"Comienza el ciclo for con i = {i}\")\n",
        "\n",
        "    # Ciclo while dentro del ciclo for\n",
        "    contador = 0\n",
        "    while contador < 3:\n",
        "        print(f\"Dentro del ciclo while con contador = {contador}\")\n",
        "        contador += 1\n"
      ],
      "metadata": {
        "id": "aB6aPd26fjNz"
      },
      "execution_count": null,
      "outputs": []
    },
    {
      "cell_type": "code",
      "source": [
        "#verificar si un número es primo\n",
        "def es_primo(numero):\n",
        "    if numero <= 1:\n",
        "        return False\n",
        "    for i in range(2, int(numero**0.5) + 1):\n",
        "        if numero % i == 0:\n",
        "            return False\n",
        "    return True\n",
        "\n",
        "print(\"Números primos entre 0 y 30:\")\n",
        "for num in range(31):\n",
        "    if es_primo(num):\n",
        "        print(num)\n"
      ],
      "metadata": {
        "colab": {
          "base_uri": "https://localhost:8080/"
        },
        "id": "gwSngGUbfrtM",
        "outputId": "d61ddc50-09d1-4e2d-f565-9935a01bd745"
      },
      "execution_count": 3,
      "outputs": [
        {
          "output_type": "stream",
          "name": "stdout",
          "text": [
            "Números primos entre 0 y 30:\n",
            "2\n",
            "3\n",
            "5\n",
            "7\n",
            "11\n",
            "13\n",
            "17\n",
            "19\n",
            "23\n",
            "29\n"
          ]
        }
      ]
    },
    {
      "cell_type": "code",
      "source": [
        "# Función para verificar si un número es primo\n",
        "def es_primo(numero):\n",
        "    if numero <= 1:\n",
        "        return False\n",
        "    for i in range(2, int(numero**0.5) + 1):\n",
        "        if numero % i == 0:\n",
        "            return False\n",
        "    return True\n",
        "\n",
        "# Imprimir números primos entre 0 y 30 usando break y continue\n",
        "print(\"Números primos entre 0 y 30:\")\n",
        "for num in range(31):\n",
        "    if num <= 1:\n",
        "        continue\n",
        "    if num == 2:\n",
        "        print(num)\n",
        "        continue\n",
        "    for i in range(2, int(num**0.5) + 1):\n",
        "        if num % i == 0:\n",
        "            break\n",
        "    else:\n",
        "        print(num)\n"
      ],
      "metadata": {
        "colab": {
          "base_uri": "https://localhost:8080/"
        },
        "id": "Fb_w5ztFgMvn",
        "outputId": "218deb61-bb5b-4063-aca9-1bb469cf59fc"
      },
      "execution_count": 2,
      "outputs": [
        {
          "output_type": "stream",
          "name": "stdout",
          "text": [
            "Números primos entre 0 y 30:\n",
            "2\n",
            "3\n",
            "5\n",
            "7\n",
            "11\n",
            "13\n",
            "17\n",
            "19\n",
            "23\n",
            "29\n"
          ]
        }
      ]
    },
    {
      "cell_type": "code",
      "source": [
        "# fue mas eficiente ya que se iba rompiendo el ciclo cuando el resultado n servia para la respuesta"
      ],
      "metadata": {
        "id": "anEuhuuRgvSC"
      },
      "execution_count": null,
      "outputs": []
    },
    {
      "cell_type": "code",
      "source": [
        "\n",
        "numero = 100\n",
        "\n",
        "# Ciclo while para iterar sobre el rango de números\n",
        "while numero <= 300:\n",
        "    # Verificar si el número es divisible por 12\n",
        "    if numero % 12 != 0:\n",
        "        numero += 1\n",
        "        continue\n",
        "\n",
        "    # Imprimir el número si es divisible por 12\n",
        "    print(numero)\n",
        "\n",
        "    # Incrementar el número\n",
        "    numero += 1\n"
      ],
      "metadata": {
        "colab": {
          "base_uri": "https://localhost:8080/"
        },
        "id": "E3Ha_be7hNIF",
        "outputId": "299872c7-bd3f-44f9-e61f-4e4cb58766a5"
      },
      "execution_count": 4,
      "outputs": [
        {
          "output_type": "stream",
          "name": "stdout",
          "text": [
            "108\n",
            "120\n",
            "132\n",
            "144\n",
            "156\n",
            "168\n",
            "180\n",
            "192\n",
            "204\n",
            "216\n",
            "228\n",
            "240\n",
            "252\n",
            "264\n",
            "276\n",
            "288\n",
            "300\n"
          ]
        }
      ]
    },
    {
      "cell_type": "code",
      "source": [
        "\n",
        "\n",
        "def es_primo(numero):\n",
        "    if numero <= 1:\n",
        "        return False\n",
        "    for i in range(2, int(numero**0.5) + 1):\n",
        "        if numero % i == 0:\n",
        "            return False\n",
        "    return True\n",
        "\n",
        "def buscar_siguiente_primo(numero_actual):\n",
        "    siguiente_numero = numero_actual + 1\n",
        "    while True:\n",
        "        if es_primo(siguiente_numero):\n",
        "            return siguiente_numero\n",
        "        siguiente_numero += 1\n",
        "\n",
        "# Bucle\n",
        "while True:\n",
        "\n",
        "    entrada = input(\"Ingresa un número entero mayor que 1 para encontrar su siguiente número primo (o 'salir' para terminar): \")\n",
        "\n",
        "\n",
        "    if entrada.lower() == 'salir':\n",
        "        print(\"¡Hasta luego!\")\n",
        "        break\n",
        "\n",
        "    # Convertir la entrada en un entero\n",
        "    try:\n",
        "        numero_ingresado = int(entrada)\n",
        "    except ValueError:\n",
        "        print(\"Por favor, ingresa un número entero válido.\")\n",
        "        continue\n",
        "\n",
        "\n",
        "    if numero_ingresado <= 1:\n",
        "        print(\"Por favor, ingresa un número entero mayor que 1.\")\n",
        "        continue\n",
        "\n",
        "    # Encontrar el siguiente número primo\n",
        "    siguiente_primo = buscar_siguiente_primo(numero_ingresado)\n",
        "    print(f\"El siguiente número primo después de {numero_ingresado} es: {siguiente_primo}\")\n",
        "\n"
      ],
      "metadata": {
        "id": "I97_jrN0UugM"
      },
      "execution_count": null,
      "outputs": []
    },
    {
      "cell_type": "code",
      "source": [
        "\n",
        "numero = 100\n",
        "\n",
        "# Buscar el primer número divisible por 3 y múltiplo de 6 dentro del rango\n",
        "while numero <= 300:\n",
        "    if numero % 3 == 0 and numero % 6 == 0:\n",
        "        print(f\"El primer número divisible por 3 y múltiplo de 6 dentro del rango es: {numero}\")\n",
        "        break  # Salir del bucle una vez que se encuentra el número\n",
        "\n",
        "\n",
        "    numero += 1\n"
      ],
      "metadata": {
        "colab": {
          "base_uri": "https://localhost:8080/"
        },
        "id": "eJpEfsu5VFK7",
        "outputId": "2c7c7104-8548-4051-f390-32487ebcf12b"
      },
      "execution_count": 1,
      "outputs": [
        {
          "output_type": "stream",
          "name": "stdout",
          "text": [
            "El primer número divisible por 3 y múltiplo de 6 dentro del rango es: 102\n"
          ]
        }
      ]
    }
  ]
}